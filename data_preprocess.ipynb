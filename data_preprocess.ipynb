{
 "cells": [
  {
   "cell_type": "code",
   "execution_count": 1,
   "id": "2a2af054-0023-4c8d-afd9-d5a94da791bd",
   "metadata": {},
   "outputs": [],
   "source": [
    "import os\n",
    "from torchvision import transforms, datasets\n",
    "from torch.utils.data import DataLoader, random_split"
   ]
  },
  {
   "cell_type": "code",
   "execution_count": 2,
   "id": "b868c95c-f042-4946-a75e-fdc1b0c4ea6b",
   "metadata": {},
   "outputs": [],
   "source": [
    "import matplotlib.pyplot as plt"
   ]
  },
  {
   "cell_type": "code",
   "execution_count": 3,
   "id": "52210746-5b7c-429d-9fec-5cd6b049c5ab",
   "metadata": {},
   "outputs": [],
   "source": [
    "DATA_DIR = r\"C:\\Users\\Şebnem\\Desktop\\animals\\raw-img\""
   ]
  },
  {
   "cell_type": "code",
   "execution_count": 7,
   "id": "e0305905-b214-4dad-a4c3-ad0fbb72a01b",
   "metadata": {},
   "outputs": [],
   "source": [
    "transform = transforms.Compose([\n",
    "    transforms.Resize((128, 128)),               \n",
    "    transforms.RandomHorizontalFlip(p=0.5),      \n",
    "    transforms.ToTensor(),                       \n",
    "    transforms.Normalize(                      \n",
    "        mean=[0.485, 0.456, 0.406], \n",
    "        std=[0.229, 0.224, 0.225]\n",
    "    ),\n",
    "])"
   ]
  },
  {
   "cell_type": "code",
   "execution_count": 8,
   "id": "feabc0ec-8442-41f1-a8a0-f5935362b133",
   "metadata": {},
   "outputs": [],
   "source": [
    "full_dataset = datasets.ImageFolder(root=DATA_DIR, transform=transform)\n",
    "total_size = len(full_dataset)\n",
    "val_size = int(0.2 * total_size)                 \n",
    "train_size = total_size - val_size\n",
    "\n",
    "train_dataset, val_dataset = random_split(full_dataset, [train_size, val_size])\n"
   ]
  },
  {
   "cell_type": "code",
   "execution_count": 9,
   "id": "a84171bc-9a1d-4fcd-adaa-90123ced3ee9",
   "metadata": {},
   "outputs": [],
   "source": [
    "BATCH_SIZE = 32\n",
    "\n",
    "train_loader = DataLoader(train_dataset, batch_size=BATCH_SIZE, shuffle=True)\n",
    "val_loader   = DataLoader(val_dataset,   batch_size=BATCH_SIZE, shuffle=False)\n"
   ]
  },
  {
   "cell_type": "code",
   "execution_count": 10,
   "id": "62fefa5b-a24b-4b6e-adcb-58f51277cf2d",
   "metadata": {},
   "outputs": [],
   "source": [
    "def show_batch(loader):\n",
    "    images, labels = next(iter(loader))\n",
    "    fig, axes = plt.subplots(1, 4, figsize=(12, 4))\n",
    "    for img, lbl, ax in zip(images[:4], labels[:4], axes):\n",
    "        img = img.permute(1, 2, 0).numpy() * [0.229, 0.224, 0.225] + [0.485, 0.456, 0.406]\n",
    "        ax.imshow(img)\n",
    "        ax.set_title(full_dataset.classes[lbl])\n",
    "        ax.axis('off')\n",
    "    plt.show()"
   ]
  },
  {
   "cell_type": "code",
   "execution_count": null,
   "id": "e8255554-ae35-4254-b301-43d6d84d31cc",
   "metadata": {},
   "outputs": [
    {
     "name": "stdout",
     "output_type": "stream",
     "text": [
      "📊 Toplam örnek: 26179, Eğitim: 20944, Doğrulama: 5235\n"
     ]
    },
    {
     "name": "stderr",
     "output_type": "stream",
     "text": [
      "Clipping input data to the valid range for imshow with RGB data ([0..1] for floats or [0..255] for integers). Got range [0.02745099043846133..1.0000000236034394].\n"
     ]
    }
   ],
   "source": [
    "if __name__ == '__main__':\n",
    "    print(f'📊 Toplam örnek: {total_size}, Eğitim: {train_size}, Doğrulama: {val_size}')\n",
    "    show_batch(train_loader)"
   ]
  },
  {
   "cell_type": "code",
   "execution_count": null,
   "id": "3bccfb7e-1633-49aa-b747-edba72057d73",
   "metadata": {},
   "outputs": [],
   "source": []
  }
 ],
 "metadata": {
  "kernelspec": {
   "display_name": "Python [conda env:base] *",
   "language": "python",
   "name": "conda-base-py"
  },
  "language_info": {
   "codemirror_mode": {
    "name": "ipython",
    "version": 3
   },
   "file_extension": ".py",
   "mimetype": "text/x-python",
   "name": "python",
   "nbconvert_exporter": "python",
   "pygments_lexer": "ipython3",
   "version": "3.12.7"
  }
 },
 "nbformat": 4,
 "nbformat_minor": 5
}
